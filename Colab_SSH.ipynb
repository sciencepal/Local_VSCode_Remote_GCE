{
  "nbformat": 4,
  "nbformat_minor": 0,
  "metadata": {
    "colab": {
      "name": "Colab_SSH.ipynb",
      "provenance": [],
      "collapsed_sections": [],
      "authorship_tag": "ABX9TyPIhDoyo7OIaeJJMPpn7wR6",
      "include_colab_link": true
    },
    "kernelspec": {
      "name": "python3",
      "display_name": "Python 3"
    },
    "accelerator": "GPU"
  },
  "cells": [
    {
      "cell_type": "markdown",
      "metadata": {
        "id": "view-in-github",
        "colab_type": "text"
      },
      "source": [
        "<a href=\"https://colab.research.google.com/github/sciencepal/Local_VSCode_Remote_GCE/blob/main/Colab_SSH.ipynb\" target=\"_parent\"><img src=\"https://colab.research.google.com/assets/colab-badge.svg\" alt=\"Open In Colab\"/></a>"
      ]
    },
    {
      "cell_type": "code",
      "metadata": {
        "colab": {
          "base_uri": "https://localhost:8080/"
        },
        "id": "K3bTS8MP3dd8",
        "outputId": "a74ad220-bf00-4f75-c570-a9ed133473e2"
      },
      "source": [
        "from google.colab import drive\n",
        "drive.mount('/root/gdrive')"
      ],
      "execution_count": null,
      "outputs": [
        {
          "output_type": "stream",
          "text": [
            "Drive already mounted at /root/gdrive; to attempt to forcibly remount, call drive.mount(\"/root/gdrive\", force_remount=True).\n"
          ],
          "name": "stdout"
        }
      ]
    },
    {
      "cell_type": "code",
      "metadata": {
        "id": "IFSEWKNw2nGv"
      },
      "source": [
        "!apt-get update\n",
        "!apt-get install -y \\\n",
        "    build-essential \\\n",
        "    cmake \\\n",
        "    curl \\\n",
        "    gcc \\\n",
        "    git \\\n",
        "    libjpeg-dev \\\n",
        "    libpng-dev \\\n",
        "    libtiff-dev \\\n",
        "    libgtk2.0-dev \\\n",
        "    locales \\\n",
        "    net-tools \\\n",
        "    wget \\\n",
        "    zsh \\\n",
        "    vim \\\n",
        "    && rm -rf /var/lib/apt/lists/*\n",
        "\n",
        "!locale-gen en_US.UTF-8\n",
        "!export LANG=en_US.UTF-8\n",
        "!export ZSH_THEME=agnoster\n",
        "!echo \"/bin/zsh\" | /bin/sh -c chsh -s /bin/zsh\n",
        "!export SHELL=/bin/zsh\n",
        "!wget https://github.com/robbyrussell/oh-my-zsh/raw/master/tools/install.sh -O - | zsh || true\n",
        "!wget \\\n",
        "    https://repo.anaconda.com/miniconda/Miniconda3-latest-Linux-x86_64.sh \\\n",
        "    && mkdir /root/.conda \\\n",
        "    && sh Miniconda3-latest-Linux-x86_64.sh -b \\\n",
        "    && rm -f Miniconda3-latest-Linux-x86_64.sh\n",
        "\n",
        "!git config --global user.name \"YOUR_GITHUB_NAME\" # Edit This\n",
        "!git config --global user.email \"YOUR_GITHUB_EMAIL\" # Edit This\n",
        "!/root/miniconda3/bin/conda init zsh\n",
        "!wget https://github.com/sciencepal/Local_VSCode_Remote_GCE/raw/main/environment.yml\n",
        "!/root/miniconda3/bin/conda env create -f environment.yml "
      ],
      "execution_count": null,
      "outputs": []
    },
    {
      "cell_type": "code",
      "metadata": {
        "colab": {
          "base_uri": "https://localhost:8080/"
        },
        "id": "5Plw4yST3BOm",
        "outputId": "ab57200f-103b-462f-ff0a-639d54d51034"
      },
      "source": [
        "# Install colab_ssh on google colab\n",
        "!pip3 install colab_ssh --upgrade\n",
        "ngrokToken = 'YOUR_NGROK_TOKEN' # Edit This By creating a new token from ngrok.com\n",
        "password = 'YOUR_PASSWORD' # Edit this\n",
        "from colab_ssh import launch_ssh, init_git\n",
        "launch_ssh(ngrokToken, password)"
      ],
      "execution_count": null,
      "outputs": [
        {
          "output_type": "stream",
          "text": [
            "Requirement already up-to-date: colab_ssh in /usr/local/lib/python3.6/dist-packages (0.3.14)\n",
            "Warning: Due to some issues with ngrok on Google Colab, reported in the issue https://github.com/WassimBenzarti/colab-ssh/issues/45, \n",
            "we highly recommend that update your code by following this documentation https://github.com/WassimBenzarti/colab-ssh#getting-started\n",
            "Successfully running 2.tcp.ngrok.io:13507\n",
            "[Optional] You can also connect with VSCode SSH Remote extension using this configuration:\n",
            "\n",
            "\tHost google_colab_ssh\n",
            "\t\tHostName 2.tcp.ngrok.io\n",
            "\t\tUser root\n",
            "\t\tPort 13507\n",
            "\t  \n"
          ],
          "name": "stdout"
        }
      ]
    },
    {
      "cell_type": "code",
      "metadata": {
        "colab": {
          "base_uri": "https://localhost:8080/",
          "height": 168
        },
        "id": "qBy5R36H8efc",
        "outputId": "ae2e6b13-766f-4371-dc87-30a7bec09ed1"
      },
      "source": [
        "while True:pass"
      ],
      "execution_count": null,
      "outputs": [
        {
          "output_type": "error",
          "ename": "KeyboardInterrupt",
          "evalue": "ignored",
          "traceback": [
            "\u001b[0;31m---------------------------------------------------------------------------\u001b[0m",
            "\u001b[0;31mKeyboardInterrupt\u001b[0m                         Traceback (most recent call last)",
            "\u001b[0;32m<ipython-input-20-534b7a74019f>\u001b[0m in \u001b[0;36m<module>\u001b[0;34m()\u001b[0m\n\u001b[0;32m----> 1\u001b[0;31m \u001b[0;32mwhile\u001b[0m \u001b[0;32mTrue\u001b[0m\u001b[0;34m:\u001b[0m\u001b[0;32mpass\u001b[0m\u001b[0;34m\u001b[0m\u001b[0;34m\u001b[0m\u001b[0m\n\u001b[0m",
            "\u001b[0;31mKeyboardInterrupt\u001b[0m: "
          ]
        }
      ]
    }
  ]
}