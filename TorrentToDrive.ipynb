{
  "nbformat": 4,
  "nbformat_minor": 0,
  "metadata": {
    "colab": {
      "provenance": [],
      "include_colab_link": true
    },
    "kernelspec": {
      "name": "python3",
      "display_name": "Python 3"
    }
  },
  "cells": [
    {
      "cell_type": "markdown",
      "metadata": {
        "id": "view-in-github",
        "colab_type": "text"
      },
      "source": [
        "<a href=\"https://colab.research.google.com/github/sciencepal/Local_VSCode_Remote_GCE/blob/main/TorrentToDrive.ipynb\" target=\"_parent\"><img src=\"https://colab.research.google.com/assets/colab-badge.svg\" alt=\"Open In Colab\"/></a>"
      ]
    },
    {
      "cell_type": "markdown",
      "metadata": {
        "id": "tv1pv7HITr8Z"
      },
      "source": [
        "#Torrent to Google Drive"
      ]
    },
    {
      "cell_type": "markdown",
      "metadata": {
        "id": "OT2A4UfMT13u"
      },
      "source": [
        "### We will use Google Colab and python3-libtorrent"
      ]
    },
    {
      "cell_type": "markdown",
      "metadata": {
        "id": "s4TwJU-pVNC9"
      },
      "source": [
        "#### Import\n",
        "\n"
      ]
    },
    {
      "cell_type": "markdown",
      "metadata": {
        "id": "s1DhrbkZWL1P"
      },
      "source": [
        "#### Install Dependency (python3-libtorrent)"
      ]
    },
    {
      "cell_type": "markdown",
      "metadata": {
        "id": "Rh5kBbj_WrxB"
      },
      "source": [
        "After Successful Installation, search the required Torrent in any Torrent Website. Ricght click on the Magnet Link, Copy the Address."
      ]
    },
    {
      "cell_type": "markdown",
      "metadata": {
        "id": "Pa57pbwvXew7"
      },
      "source": [
        "#### Start the Torrent Sesssion"
      ]
    },
    {
      "cell_type": "markdown",
      "metadata": {
        "id": "rz8go4QIXm9d"
      },
      "source": [
        "Torrent Used in this [Example](https://www.1377x.to/torrent/4634768/MediaMonkey-Gold-4-1-30-1913-x86-x64-Multilingual-Keygen-FTUApps/)"
      ]
    },
    {
      "source": [
        "!pip install libtorrent\n",
        "import libtorrent as lt\n",
        "import time\n",
        "import datetime\n",
        "\n",
        "ses = lt.session()\n",
        "ses.listen_on(6881, 6891)\n",
        "params = {\n",
        "    'save_path': '/content/drive/My Drive/Torrent/',\n",
        "    'storage_mode': lt.storage_mode_t(2),\n",
        "}\n",
        "# Magnet Link\n",
        "link = \"magnet:?xt=urn:btih:1df3b55a3c4ff2cc1de22012ca18c548afcecf8e&dn=Friends+Season+1+COMPLETE+720p.BRrip.sujaidr+%28pimprg%29&tr=udp%3A%2F%2Ftracker.leechers-paradise.org%3A6969&tr=udp%3A%2F%2Fzer0day.ch%3A1337&tr=udp%3A%2F%2Fopen.demonii.com%3A1337&tr=udp%3A%2F%2Ftracker.coppersurfer.tk%3A6969&tr=udp%3A%2F%2Fexodus.desync.com%3A6969\"\n",
        "print(link)\n",
        "\n",
        "# Add the torrent using add_magnet_uri and the magnet link\n",
        "handle = lt.add_magnet_uri(ses, link, params)\n",
        "\n",
        "# Now set the flags on the handle\n",
        "handle.set_flags(lt.torrent_flags.auto_managed)\n",
        "#handle.pause() # Uncomment to start paused\n",
        "\n",
        "ses.start_dht()\n",
        "\n",
        "begin = time.time()\n",
        "print(datetime.datetime.now())\n",
        "\n",
        "print('Downloading Metadata...')\n",
        "while (not handle.has_metadata()):\n",
        "    time.sleep(1)\n",
        "print('MataData Imported, Attempting Download')\n",
        "\n",
        "print(\"Starting, Please Wait\\n\", handle.name())\n",
        "\n",
        "while (handle.status().state != lt.torrent_status.seeding):\n",
        "    s = handle.status()\n",
        "    state_str = ['queued', 'checking', 'downloading metadata', \\\n",
        "            'downloading', 'finished', 'seeding', 'allocating']\n",
        "    print('%.2f%% complete (down: %.1f kb/s up: %.1f kB/s peers: %d) %s ' % \\\n",
        "            (s.progress * 100, s.download_rate / 1000, s.upload_rate / 1000, \\\n",
        "            s.num_peers, state_str[s.state]))\n",
        "    time.sleep(5)\n",
        "\n",
        "end = time.time()\n",
        "print(handle.name(), \"COMPLETE, Go to the Drive to Find the Downloaded File\")\n",
        "\n",
        "print(\"Elapsed Time: \", int((end - begin) // 60), \"min :\", int((end - begin) % 60), \"sec\")\n",
        "print(\"Closing Session, Come Back Again\")\n",
        "print(datetime.datetime.now())"
      ],
      "cell_type": "code",
      "metadata": {
        "colab": {
          "base_uri": "https://localhost:8080/"
        },
        "id": "HkxTkZV3ZL-W",
        "outputId": "de2c3b2f-f0a1-4963-9533-f63cb106a74f"
      },
      "execution_count": 5,
      "outputs": [
        {
          "output_type": "stream",
          "name": "stdout",
          "text": [
            "Requirement already satisfied: libtorrent in /usr/local/lib/python3.10/dist-packages (2.0.9)\n"
          ]
        },
        {
          "output_type": "stream",
          "name": "stderr",
          "text": [
            "<ipython-input-5-2ffee9aafe9a>:7: DeprecationWarning: listen_on() is deprecated\n",
            "  ses.listen_on(6881, 6891)\n",
            "<ipython-input-5-2ffee9aafe9a>:17: DeprecationWarning: add_magnet_uri() is deprecated\n",
            "  handle = lt.add_magnet_uri(ses, link, params)\n",
            "<ipython-input-5-2ffee9aafe9a>:23: DeprecationWarning: start_dht() is deprecated\n",
            "  ses.start_dht()\n",
            "<ipython-input-5-2ffee9aafe9a>:29: DeprecationWarning: has_metadata() is deprecated\n",
            "  while (not handle.has_metadata()):\n"
          ]
        },
        {
          "output_type": "stream",
          "name": "stdout",
          "text": [
            "magnet:?xt=urn:btih:1df3b55a3c4ff2cc1de22012ca18c548afcecf8e&dn=Friends+Season+1+COMPLETE+720p.BRrip.sujaidr+%28pimprg%29&tr=udp%3A%2F%2Ftracker.leechers-paradise.org%3A6969&tr=udp%3A%2F%2Fzer0day.ch%3A1337&tr=udp%3A%2F%2Fopen.demonii.com%3A1337&tr=udp%3A%2F%2Ftracker.coppersurfer.tk%3A6969&tr=udp%3A%2F%2Fexodus.desync.com%3A6969\n",
            "2024-10-22 08:43:11.794929\n",
            "Downloading Metadata...\n",
            "MataData Imported, Attempting Download\n",
            "Starting, Please Wait\n",
            " Friends Season 1 COMPLETE 720p.BRrip.sujaidr (pimprg)\n",
            "0.00% complete (down: 18.3 kb/s up: 1.6 kB/s peers: 6) downloading \n"
          ]
        },
        {
          "output_type": "stream",
          "name": "stderr",
          "text": [
            "<ipython-input-5-2ffee9aafe9a>:33: DeprecationWarning: name() is deprecated\n",
            "  print(\"Starting, Please Wait\\n\", handle.name())\n"
          ]
        },
        {
          "output_type": "stream",
          "name": "stdout",
          "text": [
            "0.15% complete (down: 808.0 kb/s up: 26.8 kB/s peers: 8) downloading \n",
            "0.28% complete (down: 888.4 kb/s up: 29.5 kB/s peers: 13) downloading \n",
            "0.48% complete (down: 1325.9 kb/s up: 43.4 kB/s peers: 14) downloading \n",
            "0.93% complete (down: 2588.2 kb/s up: 79.1 kB/s peers: 13) downloading \n",
            "1.39% complete (down: 3170.8 kb/s up: 98.0 kB/s peers: 15) downloading \n",
            "1.84% complete (down: 3172.7 kb/s up: 96.5 kB/s peers: 16) downloading \n",
            "2.33% complete (down: 3377.1 kb/s up: 106.2 kB/s peers: 52) downloading \n",
            "2.79% complete (down: 3305.6 kb/s up: 103.9 kB/s peers: 74) downloading \n",
            "3.30% complete (down: 3679.0 kb/s up: 116.1 kB/s peers: 78) downloading \n",
            "3.81% complete (down: 3780.8 kb/s up: 120.3 kB/s peers: 48) downloading \n",
            "4.35% complete (down: 3925.8 kb/s up: 124.2 kB/s peers: 26) downloading \n",
            "4.89% complete (down: 3890.3 kb/s up: 122.7 kB/s peers: 24) downloading \n",
            "5.46% complete (down: 3940.9 kb/s up: 125.0 kB/s peers: 34) downloading \n",
            "6.05% complete (down: 4258.2 kb/s up: 140.2 kB/s peers: 39) downloading \n",
            "6.63% complete (down: 4267.9 kb/s up: 139.6 kB/s peers: 40) downloading \n",
            "7.22% complete (down: 4275.0 kb/s up: 140.1 kB/s peers: 39) downloading \n",
            "7.80% complete (down: 4381.1 kb/s up: 145.8 kB/s peers: 46) downloading \n",
            "8.39% complete (down: 4468.7 kb/s up: 146.9 kB/s peers: 47) downloading \n",
            "8.90% complete (down: 3949.6 kb/s up: 134.9 kB/s peers: 38) downloading \n",
            "9.47% complete (down: 4065.8 kb/s up: 137.2 kB/s peers: 40) downloading \n",
            "10.03% complete (down: 4114.7 kb/s up: 139.9 kB/s peers: 57) downloading \n",
            "10.57% complete (down: 3999.3 kb/s up: 141.0 kB/s peers: 98) downloading \n",
            "11.14% complete (down: 4116.7 kb/s up: 143.8 kB/s peers: 116) downloading \n",
            "11.73% complete (down: 4295.9 kb/s up: 147.5 kB/s peers: 107) downloading \n",
            "12.26% complete (down: 4000.3 kb/s up: 142.1 kB/s peers: 85) downloading \n",
            "12.83% complete (down: 4206.8 kb/s up: 147.4 kB/s peers: 64) downloading \n",
            "13.44% complete (down: 4439.8 kb/s up: 149.3 kB/s peers: 47) downloading \n",
            "14.05% complete (down: 4530.4 kb/s up: 150.1 kB/s peers: 41) downloading \n",
            "14.67% complete (down: 4528.4 kb/s up: 148.3 kB/s peers: 50) downloading \n",
            "15.27% complete (down: 4688.9 kb/s up: 146.4 kB/s peers: 45) downloading \n",
            "15.85% complete (down: 4361.4 kb/s up: 148.0 kB/s peers: 50) downloading \n",
            "16.35% complete (down: 3757.9 kb/s up: 134.1 kB/s peers: 57) downloading \n",
            "16.89% complete (down: 3886.6 kb/s up: 132.4 kB/s peers: 57) downloading \n",
            "17.47% complete (down: 4243.4 kb/s up: 151.3 kB/s peers: 56) downloading \n",
            "18.07% complete (down: 4277.4 kb/s up: 151.5 kB/s peers: 59) downloading \n",
            "18.63% complete (down: 4294.1 kb/s up: 150.5 kB/s peers: 54) downloading \n",
            "19.19% complete (down: 4059.1 kb/s up: 140.6 kB/s peers: 70) downloading \n",
            "19.75% complete (down: 4109.6 kb/s up: 144.6 kB/s peers: 93) downloading \n",
            "20.37% complete (down: 4557.6 kb/s up: 149.7 kB/s peers: 95) downloading \n",
            "20.97% complete (down: 4431.4 kb/s up: 145.7 kB/s peers: 70) downloading \n",
            "21.61% complete (down: 4588.5 kb/s up: 149.1 kB/s peers: 57) downloading \n",
            "22.23% complete (down: 4538.2 kb/s up: 147.0 kB/s peers: 43) downloading \n",
            "22.84% complete (down: 4523.1 kb/s up: 146.8 kB/s peers: 54) downloading \n",
            "23.53% complete (down: 4802.3 kb/s up: 155.5 kB/s peers: 53) downloading \n",
            "24.20% complete (down: 4860.5 kb/s up: 157.2 kB/s peers: 50) downloading \n",
            "24.84% complete (down: 4801.8 kb/s up: 156.0 kB/s peers: 54) downloading \n",
            "25.45% complete (down: 4574.6 kb/s up: 147.1 kB/s peers: 54) downloading \n",
            "26.07% complete (down: 4576.5 kb/s up: 148.4 kB/s peers: 61) downloading \n",
            "26.69% complete (down: 4521.9 kb/s up: 146.4 kB/s peers: 65) downloading \n",
            "27.30% complete (down: 4473.2 kb/s up: 146.2 kB/s peers: 64) downloading \n",
            "27.94% complete (down: 4609.2 kb/s up: 151.3 kB/s peers: 69) downloading \n",
            "28.56% complete (down: 4516.5 kb/s up: 150.0 kB/s peers: 95) downloading \n",
            "29.17% complete (down: 4486.6 kb/s up: 146.6 kB/s peers: 100) downloading \n",
            "29.78% complete (down: 4431.1 kb/s up: 144.6 kB/s peers: 67) downloading \n",
            "30.38% complete (down: 4405.8 kb/s up: 145.1 kB/s peers: 55) downloading \n",
            "31.10% complete (down: 4879.7 kb/s up: 160.4 kB/s peers: 51) downloading \n",
            "31.75% complete (down: 4766.6 kb/s up: 155.7 kB/s peers: 50) downloading \n",
            "32.38% complete (down: 4662.4 kb/s up: 152.4 kB/s peers: 50) downloading \n",
            "33.02% complete (down: 4607.5 kb/s up: 151.5 kB/s peers: 49) downloading \n",
            "33.67% complete (down: 4753.3 kb/s up: 156.9 kB/s peers: 49) downloading \n",
            "34.30% complete (down: 4585.9 kb/s up: 151.0 kB/s peers: 55) downloading \n",
            "34.89% complete (down: 4346.9 kb/s up: 143.8 kB/s peers: 57) downloading \n",
            "35.58% complete (down: 4834.4 kb/s up: 158.6 kB/s peers: 58) downloading \n",
            "36.17% complete (down: 4444.3 kb/s up: 147.8 kB/s peers: 57) downloading \n",
            "36.83% complete (down: 4809.9 kb/s up: 159.0 kB/s peers: 53) downloading \n",
            "37.45% complete (down: 4509.0 kb/s up: 150.6 kB/s peers: 63) downloading \n",
            "38.03% complete (down: 4355.5 kb/s up: 144.6 kB/s peers: 95) downloading \n",
            "38.63% complete (down: 4407.3 kb/s up: 147.1 kB/s peers: 83) downloading \n",
            "39.24% complete (down: 4443.7 kb/s up: 145.7 kB/s peers: 66) downloading \n",
            "39.83% complete (down: 4335.6 kb/s up: 143.5 kB/s peers: 47) downloading \n",
            "40.38% complete (down: 4156.9 kb/s up: 142.0 kB/s peers: 45) downloading \n",
            "40.99% complete (down: 4294.5 kb/s up: 144.5 kB/s peers: 48) downloading \n",
            "41.56% complete (down: 4158.7 kb/s up: 139.6 kB/s peers: 53) downloading \n",
            "42.14% complete (down: 4250.3 kb/s up: 139.8 kB/s peers: 57) downloading \n",
            "42.73% complete (down: 4225.9 kb/s up: 138.7 kB/s peers: 58) downloading \n",
            "43.31% complete (down: 4282.2 kb/s up: 141.4 kB/s peers: 63) downloading \n",
            "43.89% complete (down: 4293.1 kb/s up: 142.7 kB/s peers: 65) downloading \n",
            "44.48% complete (down: 4164.8 kb/s up: 139.0 kB/s peers: 59) downloading \n",
            "45.08% complete (down: 4350.0 kb/s up: 144.8 kB/s peers: 69) downloading \n",
            "45.67% complete (down: 4346.4 kb/s up: 147.1 kB/s peers: 76) downloading \n",
            "46.29% complete (down: 4465.9 kb/s up: 149.1 kB/s peers: 83) downloading \n",
            "46.86% complete (down: 4329.1 kb/s up: 144.7 kB/s peers: 83) downloading \n",
            "47.44% complete (down: 4265.3 kb/s up: 143.5 kB/s peers: 74) downloading \n",
            "48.06% complete (down: 4398.3 kb/s up: 146.7 kB/s peers: 57) downloading \n",
            "48.63% complete (down: 4278.1 kb/s up: 142.2 kB/s peers: 49) downloading \n",
            "49.21% complete (down: 4228.5 kb/s up: 142.1 kB/s peers: 46) downloading \n",
            "49.76% complete (down: 4207.2 kb/s up: 144.9 kB/s peers: 52) downloading \n",
            "50.29% complete (down: 3981.6 kb/s up: 139.0 kB/s peers: 53) downloading \n",
            "50.87% complete (down: 4084.1 kb/s up: 142.7 kB/s peers: 56) downloading \n",
            "51.44% complete (down: 4225.8 kb/s up: 147.7 kB/s peers: 61) downloading \n",
            "51.96% complete (down: 3942.4 kb/s up: 139.4 kB/s peers: 67) downloading \n",
            "52.49% complete (down: 3821.3 kb/s up: 137.2 kB/s peers: 57) downloading \n",
            "53.17% complete (down: 4758.7 kb/s up: 162.8 kB/s peers: 55) downloading \n",
            "53.75% complete (down: 4327.5 kb/s up: 150.0 kB/s peers: 61) downloading \n",
            "54.38% complete (down: 4536.1 kb/s up: 156.9 kB/s peers: 77) downloading \n",
            "54.95% complete (down: 4308.9 kb/s up: 148.2 kB/s peers: 82) downloading \n",
            "55.52% complete (down: 4221.0 kb/s up: 144.4 kB/s peers: 65) downloading \n",
            "56.12% complete (down: 4352.6 kb/s up: 144.0 kB/s peers: 52) downloading \n",
            "56.70% complete (down: 4235.5 kb/s up: 142.2 kB/s peers: 50) downloading \n",
            "57.31% complete (down: 4374.9 kb/s up: 145.5 kB/s peers: 54) downloading \n",
            "57.88% complete (down: 4309.8 kb/s up: 144.8 kB/s peers: 56) downloading \n",
            "58.45% complete (down: 4222.4 kb/s up: 143.3 kB/s peers: 57) downloading \n",
            "59.05% complete (down: 4262.6 kb/s up: 145.4 kB/s peers: 51) downloading \n",
            "59.72% complete (down: 4532.5 kb/s up: 152.8 kB/s peers: 54) downloading \n",
            "60.35% complete (down: 4725.7 kb/s up: 158.1 kB/s peers: 74) downloading \n",
            "60.99% complete (down: 4460.1 kb/s up: 149.6 kB/s peers: 69) downloading \n",
            "61.56% complete (down: 4385.8 kb/s up: 147.8 kB/s peers: 62) downloading \n",
            "62.13% complete (down: 4237.7 kb/s up: 142.5 kB/s peers: 71) downloading \n",
            "62.71% complete (down: 4129.3 kb/s up: 140.1 kB/s peers: 80) downloading \n",
            "63.31% complete (down: 4355.8 kb/s up: 144.1 kB/s peers: 95) downloading \n",
            "63.88% complete (down: 4233.1 kb/s up: 143.0 kB/s peers: 67) downloading \n",
            "64.40% complete (down: 3952.7 kb/s up: 134.5 kB/s peers: 50) downloading \n",
            "64.94% complete (down: 3981.9 kb/s up: 139.7 kB/s peers: 47) downloading \n",
            "65.54% complete (down: 4208.3 kb/s up: 142.2 kB/s peers: 56) downloading \n",
            "66.20% complete (down: 4616.5 kb/s up: 154.7 kB/s peers: 56) downloading \n",
            "66.88% complete (down: 4897.3 kb/s up: 162.7 kB/s peers: 55) downloading \n",
            "67.51% complete (down: 4739.3 kb/s up: 156.7 kB/s peers: 62) downloading \n",
            "68.18% complete (down: 4779.6 kb/s up: 159.5 kB/s peers: 60) downloading \n",
            "68.74% complete (down: 4353.9 kb/s up: 145.1 kB/s peers: 57) downloading \n",
            "69.33% complete (down: 4340.0 kb/s up: 145.0 kB/s peers: 54) downloading \n",
            "69.95% complete (down: 4473.3 kb/s up: 151.6 kB/s peers: 60) downloading \n",
            "70.56% complete (down: 4517.6 kb/s up: 154.8 kB/s peers: 63) downloading \n",
            "71.15% complete (down: 4392.6 kb/s up: 151.2 kB/s peers: 80) downloading \n",
            "71.72% complete (down: 4232.8 kb/s up: 148.0 kB/s peers: 93) downloading \n",
            "72.33% complete (down: 4400.4 kb/s up: 151.3 kB/s peers: 73) downloading \n",
            "72.92% complete (down: 4368.6 kb/s up: 147.2 kB/s peers: 55) downloading \n",
            "73.53% complete (down: 4431.8 kb/s up: 149.4 kB/s peers: 58) downloading \n",
            "74.11% complete (down: 4268.9 kb/s up: 146.4 kB/s peers: 63) downloading \n",
            "74.70% complete (down: 4276.5 kb/s up: 146.5 kB/s peers: 52) downloading \n",
            "75.29% complete (down: 4296.8 kb/s up: 148.9 kB/s peers: 63) downloading \n",
            "75.84% complete (down: 4063.9 kb/s up: 139.4 kB/s peers: 82) downloading \n",
            "76.43% complete (down: 4198.9 kb/s up: 143.5 kB/s peers: 71) downloading \n",
            "76.95% complete (down: 3978.0 kb/s up: 140.8 kB/s peers: 60) downloading \n",
            "77.52% complete (down: 4043.4 kb/s up: 140.7 kB/s peers: 52) downloading \n",
            "78.07% complete (down: 3982.9 kb/s up: 138.9 kB/s peers: 58) downloading \n",
            "78.70% complete (down: 4381.0 kb/s up: 149.7 kB/s peers: 63) downloading \n",
            "79.30% complete (down: 4475.3 kb/s up: 148.2 kB/s peers: 64) downloading \n",
            "79.91% complete (down: 4466.3 kb/s up: 149.2 kB/s peers: 91) downloading \n",
            "80.47% complete (down: 4118.4 kb/s up: 138.2 kB/s peers: 81) downloading \n",
            "81.03% complete (down: 4106.7 kb/s up: 138.7 kB/s peers: 55) downloading \n",
            "81.60% complete (down: 4122.7 kb/s up: 140.3 kB/s peers: 55) downloading \n",
            "82.16% complete (down: 4198.0 kb/s up: 141.7 kB/s peers: 46) downloading \n",
            "82.80% complete (down: 4497.8 kb/s up: 152.2 kB/s peers: 52) downloading \n",
            "83.37% complete (down: 4305.6 kb/s up: 145.1 kB/s peers: 65) downloading \n",
            "83.95% complete (down: 4229.7 kb/s up: 141.8 kB/s peers: 65) downloading \n",
            "84.57% complete (down: 4429.7 kb/s up: 144.9 kB/s peers: 59) downloading \n",
            "85.12% complete (down: 4236.4 kb/s up: 139.2 kB/s peers: 55) downloading \n",
            "85.72% complete (down: 4232.2 kb/s up: 140.1 kB/s peers: 56) downloading \n",
            "86.37% complete (down: 4568.0 kb/s up: 152.8 kB/s peers: 58) downloading \n",
            "86.93% complete (down: 4330.9 kb/s up: 143.8 kB/s peers: 56) downloading \n",
            "87.54% complete (down: 4372.0 kb/s up: 147.1 kB/s peers: 71) downloading \n",
            "88.14% complete (down: 4425.7 kb/s up: 149.2 kB/s peers: 82) downloading \n",
            "88.75% complete (down: 4456.5 kb/s up: 154.0 kB/s peers: 80) downloading \n",
            "89.38% complete (down: 4471.7 kb/s up: 150.7 kB/s peers: 74) downloading \n",
            "90.19% complete (down: 5477.2 kb/s up: 181.9 kB/s peers: 47) downloading \n",
            "90.79% complete (down: 4618.0 kb/s up: 155.9 kB/s peers: 55) downloading \n",
            "91.40% complete (down: 4537.4 kb/s up: 151.5 kB/s peers: 67) downloading \n",
            "91.97% complete (down: 4349.3 kb/s up: 146.9 kB/s peers: 66) downloading \n",
            "92.58% complete (down: 4368.3 kb/s up: 149.5 kB/s peers: 61) downloading \n",
            "93.16% complete (down: 4346.1 kb/s up: 147.6 kB/s peers: 57) downloading \n",
            "93.75% complete (down: 4303.1 kb/s up: 148.1 kB/s peers: 61) downloading \n",
            "94.31% complete (down: 4158.1 kb/s up: 139.5 kB/s peers: 65) downloading \n",
            "94.89% complete (down: 4199.4 kb/s up: 135.3 kB/s peers: 61) downloading \n",
            "95.46% complete (down: 4230.6 kb/s up: 136.2 kB/s peers: 56) downloading \n",
            "96.03% complete (down: 4144.3 kb/s up: 137.0 kB/s peers: 70) downloading \n",
            "96.60% complete (down: 4189.4 kb/s up: 137.1 kB/s peers: 79) downloading \n",
            "97.18% complete (down: 4202.3 kb/s up: 139.6 kB/s peers: 89) downloading \n",
            "97.78% complete (down: 4271.0 kb/s up: 141.1 kB/s peers: 67) downloading \n",
            "98.40% complete (down: 4457.2 kb/s up: 147.5 kB/s peers: 58) downloading \n",
            "99.01% complete (down: 4333.0 kb/s up: 144.6 kB/s peers: 59) downloading \n",
            "99.55% complete (down: 4170.5 kb/s up: 136.3 kB/s peers: 65) downloading \n",
            "99.93% complete (down: 3367.7 kb/s up: 112.5 kB/s peers: 56) downloading \n",
            "Friends Season 1 COMPLETE 720p.BRrip.sujaidr (pimprg) COMPLETE, Go to the Drive to Find the Downloaded File\n",
            "Elapsed Time:  14 min : 29 sec\n",
            "Closing Session, Come Back Again\n",
            "2024-10-22 08:57:41.767812\n"
          ]
        },
        {
          "output_type": "stream",
          "name": "stderr",
          "text": [
            "<ipython-input-5-2ffee9aafe9a>:45: DeprecationWarning: name() is deprecated\n",
            "  print(handle.name(), \"COMPLETE, Go to the Drive to Find the Downloaded File\")\n"
          ]
        }
      ]
    },
    {
      "cell_type": "code",
      "metadata": {
        "id": "nd5ARYFFbRA5"
      },
      "source": [],
      "execution_count": null,
      "outputs": []
    }
  ]
}